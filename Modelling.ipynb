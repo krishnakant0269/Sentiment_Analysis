{
 "cells": [
  {
   "cell_type": "code",
   "execution_count": 3,
   "id": "401ad7bf-d8d3-4837-af3e-b87cb9829a4d",
   "metadata": {},
   "outputs": [
    {
     "name": "stderr",
     "output_type": "stream",
     "text": [
      "[nltk_data] Downloading package stopwords to\n",
      "[nltk_data]     C:\\Users\\krish\\AppData\\Roaming\\nltk_data...\n",
      "[nltk_data]   Package stopwords is already up-to-date!\n"
     ]
    },
    {
     "name": "stdout",
     "output_type": "stream",
     "text": [
      "Accuracy: 0.9301587301587302\n",
      "Classification Report:\n",
      "               precision    recall  f1-score   support\n",
      "\n",
      "           0       0.83      0.38      0.52        63\n",
      "           1       0.94      0.99      0.96       567\n",
      "\n",
      "    accuracy                           0.93       630\n",
      "   macro avg       0.88      0.69      0.74       630\n",
      "weighted avg       0.92      0.93      0.92       630\n",
      "\n",
      "Confusion Matrix:\n",
      " [[ 24  39]\n",
      " [  5 562]]\n",
      "Models trained\n"
     ]
    }
   ],
   "source": [
    "import numpy as np\n",
    "import pandas as pd\n",
    "import matplotlib.pyplot as plt\n",
    "import seaborn as sns\n",
    "import nltk\n",
    "from nltk.stem.porter import PorterStemmer\n",
    "nltk.download('stopwords')\n",
    "from nltk.corpus import stopwords\n",
    "STOPWORDS = set(stopwords.words('english'))\n",
    "\n",
    "from sklearn.model_selection import train_test_split\n",
    "from sklearn.preprocessing import StandardScaler\n",
    "from sklearn.feature_extraction.text import CountVectorizer\n",
    "from sklearn.ensemble import RandomForestClassifier\n",
    "from sklearn.metrics import accuracy_score, classification_report, confusion_matrix\n",
    "import pickle\n",
    "import re\n",
    "\n",
    "# Load the data\n",
    "data = pd.read_csv(\"D:/CODING/coding/Minor 2/Sentiment-Analysis/Data/amazon_alexa.tsv\", delimiter='\\t', quoting=3)\n",
    "\n",
    "# Drop rows with missing reviews\n",
    "data.dropna(subset=['verified_reviews'], inplace=True)\n",
    "\n",
    "# Create corpus with cleaned text\n",
    "corpus = []\n",
    "ps = PorterStemmer()\n",
    "for review in data['verified_reviews']:\n",
    "    review = re.sub('[^a-zA-Z]', ' ', review)\n",
    "    review = review.lower().split()\n",
    "    review = [ps.stem(word) for word in review if word not in STOPWORDS]\n",
    "    corpus.append(' '.join(review))\n",
    "\n",
    "# Convert text to numerical features\n",
    "cv = CountVectorizer(max_features=2500)\n",
    "X = cv.fit_transform(corpus).toarray()\n",
    "\n",
    "# Set the target variable\n",
    "y = data['feedback'].values\n",
    "\n",
    "# Split data\n",
    "X_train, X_test, y_train, y_test = train_test_split(X, y, test_size=0.2, random_state=42)\n",
    "\n",
    "# Scale features\n",
    "scaler = StandardScaler(with_mean=False)\n",
    "X_train = scaler.fit_transform(X_train)\n",
    "X_test = scaler.transform(X_test)\n",
    "\n",
    "# Train the model\n",
    "model = RandomForestClassifier()\n",
    "model.fit(X_train, y_train)\n",
    "\n",
    "# Evaluate\n",
    "y_pred = model.predict(X_test)\n",
    "print(\"Accuracy:\", accuracy_score(y_test, y_pred))\n",
    "print(\"Classification Report:\\n\", classification_report(y_test, y_pred))\n",
    "print(\"Confusion Matrix:\\n\", confusion_matrix(y_test, y_pred))\n",
    "\n",
    "# Save model and vectorizer\n",
    "pickle.dump(cv, open(\"D:/CODING/coding/Minor 2/MySentimentAnalysis/Models/countVectorizer.pkl\", \"wb\"))\n",
    "pickle.dump(scaler, open(\"D:/CODING/coding/Minor 2/MySentimentAnalysis/Models/scaler.pkl\", \"wb\"))\n",
    "pickle.dump(model, open(\"D:/CODING/coding/Minor 2/MySentimentAnalysis/Models/model_rf.pkl\", \"wb\"))\n",
    "print(\"Models trained\")"
   ]
  }
 ],
 "metadata": {
  "kernelspec": {
   "display_name": "Python 3 (ipykernel)",
   "language": "python",
   "name": "python3"
  },
  "language_info": {
   "codemirror_mode": {
    "name": "ipython",
    "version": 3
   },
   "file_extension": ".py",
   "mimetype": "text/x-python",
   "name": "python",
   "nbconvert_exporter": "python",
   "pygments_lexer": "ipython3",
   "version": "3.12.7"
  }
 },
 "nbformat": 4,
 "nbformat_minor": 5
}
